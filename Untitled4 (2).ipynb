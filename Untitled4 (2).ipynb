{
  "nbformat": 4,
  "nbformat_minor": 0,
  "metadata": {
    "colab": {
      "name": "Untitled4.ipynb",
      "provenance": []
    },
    "kernelspec": {
      "name": "python3",
      "display_name": "Python 3"
    },
    "language_info": {
      "name": "python"
    }
  },
  "cells": [
    {
      "cell_type": "code",
      "execution_count": null,
      "metadata": {
        "id": "srKVEk8Lfwpf"
      },
      "outputs": [],
      "source": [
        ""
      ]
    },
    {
      "cell_type": "markdown",
      "source": [
        "write a program to create , concatenate and print a string and accessing sub-string from a given string"
      ],
      "metadata": {
        "id": "n82ZFKe4g-Am"
      }
    },
    {
      "cell_type": "code",
      "source": [
        "# string concatenation  \n",
        "# Using + operators\n",
        "str1 = \"Hello \"  \n",
        "str2 = \"jayesh\"  \n",
        "str3 = str1 + str2  \n",
        "print(str3)  \n",
        "\n",
        "s1=input(\"Enter first String : \"); \n",
        "s2=input(\"Enter second String : \");\n",
        "print(\"First string is : \",s1);\n",
        "print(\"Second string is : \",s2);\n",
        "print(\"concatenations of two strings :\",s1+s2);\n",
        "print(\"Substring of given string :\",s1[1:3]);"
      ],
      "metadata": {
        "id": "YC8QzyL3hqnG"
      },
      "execution_count": null,
      "outputs": []
    }
  ]
}