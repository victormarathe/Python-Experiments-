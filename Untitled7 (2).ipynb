{
  "nbformat": 4,
  "nbformat_minor": 0,
  "metadata": {
    "colab": {
      "name": "Untitled12.ipynb",
      "provenance": []
    },
    "kernelspec": {
      "name": "python3",
      "display_name": "Python 3"
    },
    "language_info": {
      "name": "python"
    }
  },
  "cells": [
    {
      "cell_type": "markdown",
      "source": [
        "Write a program to demonstrate working with dictionaries in python"
      ],
      "metadata": {
        "id": "bl7YSxdUplsB"
      }
    },
    {
      "cell_type": "code",
      "source": [
        "dict1 = {'plaNo':'7','plaName': 'Ms Dhoni', 'plaAge': 39, 'plaCity': 'ranchi'}\n",
        "print(\"\\n Dictionary is :\",dict1)\n",
        "#Accessing specific values \n",
        "print(\"\\n player Name is :\",dict1['plaName'])\n",
        "print(\"\\n player City is :\",dict1['plaCity'])\n",
        "\n",
        "#Display all Keys\n",
        "print(\"\\n All Keys in Dictionary \")\n",
        "for x in dict1:\n",
        "    print(x)\n",
        "#Display all values\n",
        "print(\"\\n All Values in Dictionary \")\n",
        "for x in dict1:\n",
        "    print(dict1[x])\n",
        "#Adding items\n",
        "dict1[\"Phno\"]=96652871\n",
        "#Updated dictoinary\n",
        "print(\"\\n Uadated Dictionary is :\",dict1)\n",
        "#Change values\n",
        "dict1[\"plaName\"]=\"virat\"\n",
        "#Updated dictoinary\n",
        "print(\"\\n Uadated Dictionary is :\",dict1)\n",
        "#Removing Items\n",
        "dict1.pop(\"plaAge\");\n",
        "#Updated dictoinary\n",
        "print(\"\\n Uadated Dictionary is :\",dict1)\n",
        "#Length of Dictionary\n",
        "print(\"Length of Dictionary is :\",len(dict1))\n",
        "#Copy a Dictionary\n",
        "dict2=dict1.copy()\n",
        "#New dictoinary\n",
        "print(\"\\n New Dictionary is :\",dict2)\n",
        "#empties the dictionary\n",
        "dict1.clear()\n",
        "print(\"\\n Uadated Dictionary is :\",dict1)"
      ],
      "metadata": {
        "colab": {
          "base_uri": "https://localhost:8080/"
        },
        "id": "qwXwWWWOrLxd",
        "outputId": "83693346-1c71-4f5e-b9b1-ff629447b0a3"
      },
      "execution_count": 3,
      "outputs": [
        {
          "output_type": "stream",
          "name": "stdout",
          "text": [
            "\n",
            " Dictionary is : {'plaNo': '7', 'plaName': 'Ms Dhoni', 'plaAge': 39, 'plaCity': 'ranchi'}\n",
            "\n",
            " player Name is : Ms Dhoni\n",
            "\n",
            " player City is : ranchi\n",
            "\n",
            " All Keys in Dictionary \n",
            "plaNo\n",
            "plaName\n",
            "plaAge\n",
            "plaCity\n",
            "\n",
            " All Values in Dictionary \n",
            "7\n",
            "Ms Dhoni\n",
            "39\n",
            "ranchi\n",
            "\n",
            " Uadated Dictionary is : {'plaNo': '7', 'plaName': 'Ms Dhoni', 'plaAge': 39, 'plaCity': 'ranchi', 'Phno': 96652871}\n",
            "\n",
            " Uadated Dictionary is : {'plaNo': '7', 'plaName': 'virat', 'plaAge': 39, 'plaCity': 'ranchi', 'Phno': 96652871}\n",
            "\n",
            " Uadated Dictionary is : {'plaNo': '7', 'plaName': 'virat', 'plaCity': 'ranchi', 'Phno': 96652871}\n",
            "Length of Dictionary is : 4\n",
            "\n",
            " New Dictionary is : {'plaNo': '7', 'plaName': 'virat', 'plaCity': 'ranchi', 'Phno': 96652871}\n",
            "\n",
            " Uadated Dictionary is : {}\n"
          ]
        }
      ]
    }
  ]
}