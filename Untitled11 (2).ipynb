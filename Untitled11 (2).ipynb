{
  "nbformat": 4,
  "nbformat_minor": 0,
  "metadata": {
    "colab": {
      "name": "Untitled10.ipynb",
      "provenance": []
    },
    "kernelspec": {
      "name": "python3",
      "display_name": "Python 3"
    },
    "language_info": {
      "name": "python"
    }
  },
  "cells": [
    {
      "cell_type": "markdown",
      "source": [
        "Write a python program using numpy to the sort the elements in the given array\n"
      ],
      "metadata": {
        "id": "SWETfDqQb26N"
      }
    },
    {
      "cell_type": "code",
      "source": [
        "# 1.array based on axis using sort() method\n",
        "\n",
        "# sort along the first axis\n",
        "P = np.array([[12, 15], [10, 1]])\n",
        "arr1 = np.sort(P, axis = 0)\t\t\n",
        "print (\"Along first axis : \\n\", arr1)\t\t\n",
        "\n",
        "\n",
        "# sort along the last axis\n",
        "P = np.array([[10, 15], [12, 1]])\n",
        "arr2 = np.sort(P, axis = -1)\t\t\n",
        "print (\"\\nAlong first axis : \\n\", arr2)\n",
        "\n",
        "\n",
        "P = np.array([[12, 15], [10, 1]])\n",
        "arr1 = np.sort(P, axis = None)\t\t\n",
        "print (\"\\nAlong none axis : \\n\", arr1)\n",
        "\n",
        "# 2.array using argsort() method\n",
        "\n",
        "\n",
        "# Numpy array created\n",
        "a = np.array([9, 3, 1, 7, 4, 3, 6])\n",
        "\n",
        "# unsorted array print\n",
        "print('Original array:\\n', a)\n",
        "\n",
        "# Sort array indices\n",
        "b = np.argsort(a)\n",
        "print('Sorted indices of original array->', b)\n",
        "\n",
        "# To get sorted array using sorted indices\n",
        "# c is temp array created of same len as of b\n",
        "c = np.zeros(len(b), dtype = int)\n",
        "for i in range(0, len(b)):\n",
        "\tc[i]= a[b[i]]\n",
        "print('Sorted array->', c)\n",
        "\n",
        "# 3.sort using a sequence of keys.\n",
        "\n",
        "# First column\n",
        "a = np.array([9, 3, 1, 3, 4, 3, 6])\n",
        "\n",
        "# Second column\n",
        "b = np.array([4, 6, 9, 2, 1, 8, 7])\n",
        "print('column a, column b')\n",
        "for (i, j) in zip(a, b):\n",
        "\tprint(i, ' ', j)\n",
        "\n",
        "# Sort by a then by b\n",
        "ind = np.lexsort((b, a))\n",
        "print('Sorted indices->', ind)\n",
        "\n",
        "\n"
      ],
      "metadata": {
        "colab": {
          "base_uri": "https://localhost:8080/"
        },
        "id": "1tfnRNY4cI8x",
        "outputId": "a9f2c31c-34ee-43ac-b6f8-1888f76586ca"
      },
      "execution_count": 6,
      "outputs": [
        {
          "output_type": "stream",
          "name": "stdout",
          "text": [
            "Along first axis : \n",
            " [[10  1]\n",
            " [12 15]]\n",
            "\n",
            "Along first axis : \n",
            " [[10 15]\n",
            " [ 1 12]]\n",
            "\n",
            "Along none axis : \n",
            " [ 1 10 12 15]\n",
            "Original array:\n",
            " [9 3 1 7 4 3 6]\n",
            "Sorted indices of original array-> [2 1 5 4 6 3 0]\n",
            "Sorted array-> [1 3 3 4 6 7 9]\n",
            "column a, column b\n",
            "9   4\n",
            "3   6\n",
            "1   9\n",
            "3   2\n",
            "4   1\n",
            "3   8\n",
            "6   7\n",
            "Sorted indices-> [2 3 1 5 4 6 0]\n"
          ]
        }
      ]
    }
  ]
}