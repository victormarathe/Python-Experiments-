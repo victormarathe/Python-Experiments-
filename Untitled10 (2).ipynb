{
  "nbformat": 4,
  "nbformat_minor": 0,
  "metadata": {
    "colab": {
      "name": "Untitled9.ipynb",
      "provenance": []
    },
    "kernelspec": {
      "name": "python3",
      "display_name": "Python 3"
    },
    "language_info": {
      "name": "python"
    }
  },
  "cells": [
    {
      "cell_type": "code",
      "execution_count": null,
      "metadata": {
        "id": "OlNiYIUMVKEv"
      },
      "outputs": [],
      "source": [
        ""
      ]
    },
    {
      "cell_type": "markdown",
      "source": [
        "Write a Python script that prints prime numbers less than 20"
      ],
      "metadata": {
        "id": "DrlG7MF1VMsK"
      }
    },
    {
      "cell_type": "code",
      "source": [
        "until = 20\n",
        "[n for n in range(2, until) if all(n % m != 0 for m in range(2, n-1))]\n",
        "\n",
        "n=int(input(\"Enter the number till you want to check: \"))\n",
        "primes = []\n",
        "for i in range (2, n+1):\n",
        "    for j in range(2, i):\n",
        "        if i%j == 0:\n",
        "            break\n",
        "    else:\n",
        "        primes.append(i)\n",
        "print(primes)"
      ],
      "metadata": {
        "id": "wrUuXyqvVnBR"
      },
      "execution_count": null,
      "outputs": []
    }
  ]
}