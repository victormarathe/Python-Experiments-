{
  "nbformat": 4,
  "nbformat_minor": 0,
  "metadata": {
    "colab": {
      "name": "Untitled8.ipynb",
      "provenance": []
    },
    "kernelspec": {
      "name": "python3",
      "display_name": "Python 3"
    },
    "language_info": {
      "name": "python"
    }
  },
  "cells": [
    {
      "cell_type": "code",
      "execution_count": null,
      "metadata": {
        "id": "sjNZsoWiPEKJ"
      },
      "outputs": [],
      "source": [
        ""
      ]
    },
    {
      "cell_type": "markdown",
      "source": [
        "Write a python to convert tempratures to and form celsius, fahrenheit."
      ],
      "metadata": {
        "id": "ooT6_4ZyPWvS"
      }
    },
    {
      "cell_type": "code",
      "source": [
        "temp = input(\"Input the  temperature you like to convert? (e.g., 45F, 102C, 55F, 77Cetc.) : \")\n",
        "degree = int(temp[:-1])\n",
        "i_convention = temp[-1]\n",
        "\n",
        "if i_convention.upper() == \"C\":\n",
        "  result = int(round((9 * degree) / 5 + 32))\n",
        "  o_convention = \"Fahrenheit\"\n",
        "elif i_convention.upper() == \"F\":\n",
        "  result = int(round((degree - 32) * 5 / 9))\n",
        "  o_convention = \"Celsius\"\n",
        "else:\n",
        "  print(\"Input proper convention.\")\n",
        "  quit()\n",
        "print(\"The temperature in\", o_convention, \"is\", result, \"degrees.\")"
      ],
      "metadata": {
        "colab": {
          "base_uri": "https://localhost:8080/"
        },
        "id": "PTiDXnRvPs5j",
        "outputId": "f4402ef0-5d77-4dce-cc53-390fd6428fdf"
      },
      "execution_count": 5,
      "outputs": [
        {
          "output_type": "stream",
          "name": "stdout",
          "text": [
            "Input the  temperature you like to convert? (e.g., 45F, 102C, 55F, 77C etc.) : 77C\n",
            "The temperature in Fahrenheit is 171 degrees.\n"
          ]
        }
      ]
    }
  ]
}