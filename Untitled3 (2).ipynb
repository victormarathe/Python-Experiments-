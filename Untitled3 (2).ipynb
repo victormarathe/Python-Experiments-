{
  "nbformat": 4,
  "nbformat_minor": 0,
  "metadata": {
    "colab": {
      "name": "Untitled3.ipynb",
      "provenance": []
    },
    "kernelspec": {
      "name": "python3",
      "display_name": "Python 3"
    },
    "language_info": {
      "name": "python"
    }
  },
  "cells": [
    {
      "cell_type": "code",
      "execution_count": null,
      "metadata": {
        "id": "It0EsBp_Ooj3"
      },
      "outputs": [],
      "source": [
        ""
      ]
    },
    {
      "cell_type": "markdown",
      "source": [
        "write a program to perform different arithmetic operations on numbers in python"
      ],
      "metadata": {
        "id": "oViC6sBLO167"
      }
    },
    {
      "cell_type": "code",
      "source": [
        "# Python Arithmetic Operators\n",
        "# Addition\n",
        "j = 20\n",
        "p = 40\n",
        "\n",
        "print(j + p)\n",
        "\n",
        "# Subtraction\n",
        "M = 4\n",
        "j = 1\n",
        "\n",
        "print(M - j)\n",
        "\n",
        "# Multiplication\n",
        "j = 20\n",
        "m = 40\n",
        "\n",
        "print(j * m)\n",
        "\n",
        "# Division\n",
        "s = 12\n",
        "y = 6\n",
        "\n",
        "print(s / y)\n",
        "\n",
        "# Modulus\n",
        "j = 11\n",
        "p = 2\n",
        "\n",
        "print(j % p)\n",
        "\n",
        "# Exponentiation\n",
        "m = 2\n",
        "j = 5\n",
        "\n",
        "print(m ** j) #same as 2*2*2*2*2\n",
        "\n",
        "#\tFloor division\n",
        "j = 15\n",
        "p = 2\n",
        "\n",
        "print(j // p)\n",
        "\n"
      ],
      "metadata": {
        "id": "hK3iYXcOPTyb",
        "colab": {
          "base_uri": "https://localhost:8080/"
        },
        "outputId": "ae8976df-f1c4-4d99-bfcf-b4dccacd1a77"
      },
      "execution_count": 17,
      "outputs": [
        {
          "output_type": "stream",
          "name": "stdout",
          "text": [
            "60\n",
            "3\n",
            "800\n",
            "2.0\n",
            "1\n",
            "32\n",
            "7\n"
          ]
        }
      ]
    },
    {
      "cell_type": "code",
      "source": [
        ""
      ],
      "metadata": {
        "id": "yCRJc4-DSfkC"
      },
      "execution_count": null,
      "outputs": []
    },
    {
      "cell_type": "markdown",
      "source": [
        ""
      ],
      "metadata": {
        "id": "_ojiSDQdO0nG"
      }
    }
  ]
}