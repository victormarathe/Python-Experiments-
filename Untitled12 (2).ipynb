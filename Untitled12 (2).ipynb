{
  "nbformat": 4,
  "nbformat_minor": 0,
  "metadata": {
    "colab": {
      "name": "Untitled11.ipynb",
      "provenance": []
    },
    "kernelspec": {
      "name": "python3",
      "display_name": "Python 3"
    },
    "language_info": {
      "name": "python"
    }
  },
  "cells": [
    {
      "cell_type": "markdown",
      "source": [
        "Write a Pandas program to create and display a DataFrame from a specified dictionary data which has the index labels.\n"
      ],
      "metadata": {
        "id": "r_PjsV_Uk-8C"
      }
    },
    {
      "cell_type": "code",
      "source": [
        "\n",
        "Match_data  = {'name': ['Dhoni', 'Virat', 'Rohit', 'Shikhar', 'Rahul', 'Ruturaj', 'Jadeja', 'Raina', 'Bhuvaneswar', 'Chahel'],\n",
        "        'score': [177, 102, 4, np.nan, 11, 20, 27, np.nan, 2, 5],\n",
        "        'Wickets': [1, 3, 2, 3, 2, 3, 1, 1, 2, 1],\n",
        "        'qualify': ['yes', 'no', 'yes', 'no', 'no', 'yes', 'yes', 'no', 'no', 'yes']}\n",
        "labels = ['a', 'b', 'c', 'd', 'e', 'f', 'g', 'h', 'i', 'j']\n",
        "\n",
        "df = pd.DataFrame(exam_data , index=labels)\n",
        "print(df)"
      ],
      "metadata": {
        "colab": {
          "base_uri": "https://localhost:8080/"
        },
        "id": "XsJWVLORm5ZX",
        "outputId": "5a5d2e0a-b82a-46c8-d6be-cf87b51487ee"
      },
      "execution_count": 13,
      "outputs": [
        {
          "output_type": "stream",
          "name": "stdout",
          "text": [
            "          name  score  Wickets qualify\n",
            "a        Dhoni  177.0        1     yes\n",
            "b        Virat  102.0        3      no\n",
            "c        Rohit    4.0        2     yes\n",
            "d      Shikhar    NaN        3      no\n",
            "e        Rahul   11.0        2      no\n",
            "f      Ruturaj   20.0        3     yes\n",
            "g       Jadeja   27.0        1     yes\n",
            "h        Raina    NaN        1      no\n",
            "i  Bhuvaneswar    2.0        2      no\n",
            "j       Chahel    5.0        1     yes\n"
          ]
        }
      ]
    }
  ]
}