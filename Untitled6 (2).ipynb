{
  "nbformat": 4,
  "nbformat_minor": 0,
  "metadata": {
    "colab": {
      "name": "Untitled6.ipynb",
      "provenance": []
    },
    "kernelspec": {
      "name": "python3",
      "display_name": "Python 3"
    },
    "language_info": {
      "name": "python"
    }
  },
  "cells": [
    {
      "cell_type": "code",
      "execution_count": null,
      "metadata": {
        "id": "TVHqOoH3zCUF"
      },
      "outputs": [],
      "source": [
        ""
      ]
    },
    {
      "cell_type": "markdown",
      "source": [
        "write a program to demonstrate working with tuples in python"
      ],
      "metadata": {
        "id": "ZPJsrZ4qzDLj"
      }
    },
    {
      "cell_type": "code",
      "source": [
        "#Tuples are written with round brackets.\n",
        "thistuple = (\"audi\", \"tata\", \"tesla\", \"kia\")\n",
        "print(thistuple)\n",
        "\n",
        "#Tuples allow duplicate values:\n",
        "thistuple = (\"audi\", \"tata\", \"tesla\", \"kia\",\"tesla\", \"kia\")\n",
        "print(thistuple)\n",
        "\n",
        "#Tuple Length\n",
        "thistuple = tuple((\"audi\", \"tata\", \"tesla\", \"kia\"))\n",
        "print(len(thistuple))\n",
        "\n",
        "#Create Tuple With One Item\n",
        "thistuple = (\"tesla\",)\n",
        "print(type(thistuple))\n",
        "\n",
        "#NOT a tuple\n",
        "thistuple = (\"tesla\")\n",
        "print(type(thistuple))\n",
        "\n",
        "#Tuple Items - Data Types\n",
        "\n",
        "tuple1 = (\"audi\", \"tata\", \"tesla\", \"kia\")\n",
        "tuple2 = (6, 5, 7, 2, 4)\n",
        "tuple3 = (True, False, False)\n",
        "\n",
        "\n",
        "print(tuple1)\n",
        "print(tuple2)\n",
        "print(tuple3)\n",
        "\n",
        "#A tuple with strings, integers and boolean values:\n",
        "tuple1 = (\"jpm\", 20, True, 40, \"male\")\n",
        "\n",
        "print(tuple1)\n",
        "\n",
        " #tuples are defined as objects with the data type 'tuple'\n",
        "mytuple = (\"audi\", \"tata\", \"tesla\",)\n",
        "\n",
        "print(type(mytuple))\n"
      ],
      "metadata": {
        "colab": {
          "base_uri": "https://localhost:8080/"
        },
        "id": "taNu5-MPzSZo",
        "outputId": "84b13fa1-4221-41bf-f16b-4f23955716c6"
      },
      "execution_count": 13,
      "outputs": [
        {
          "output_type": "stream",
          "name": "stdout",
          "text": [
            "('audi', 'tata', 'tesla', 'kia')\n",
            "('audi', 'tata', 'tesla', 'kia', 'tesla', 'kia')\n",
            "4\n",
            "<class 'tuple'>\n",
            "<class 'str'>\n",
            "('audi', 'tata', 'tesla', 'kia')\n",
            "(6, 5, 7, 2, 4)\n",
            "(True, False, False)\n",
            "('jpm', 20, True, 40, 'male')\n",
            "<class 'tuple'>\n"
          ]
        }
      ]
    }
  ]
}